{
 "cells": [
  {
   "cell_type": "code",
   "execution_count": 10,
   "id": "19e493a3",
   "metadata": {},
   "outputs": [],
   "source": [
    "from dotenv import load_dotenv\n",
    "load_dotenv()\n",
    "\n",
    "from langchain_groq import ChatGroq\n",
    "from langchain_core.prompts import ChatPromptTemplate\n",
    "from pydantic import BaseModel, Field\n",
    "from typing import Literal\n",
    "from app.state import GraphState\n",
    "\n",
    "# --- 1. Define the LLM ---\n",
    "llm = ChatGroq(model=\"llama-3.3-70b-versatile\", temperature=0)\n",
    "\n",
    "class Route(BaseModel):\n",
    "    next: Literal[\"Threat_Analyst\", \"Log_Analyst\", \"end_investigation\"]\n",
    "\n",
    "# --- 2. Engineer the Supervisor's Prompt ---\n",
    "supervisor_prompt = ChatPromptTemplate.from_template(\n",
    "\"\"\"You are a senior SOC supervisor. Your role is to orchestrate a team of specialist agents.\n",
    "Based on the investigation state, you must decide the next step.\n",
    "\n",
    "Decision-making process:\n",
    "1. If no threat intelligence has been gathered (`intel_available` is 'No'), you must call the `Threat_Analyst`.\n",
    "2. If threat intelligence is available (`intel_available` is 'Yes') AND logs are present but unanalyzed (`log_summary_available` is 'No'), you must call the `Log_Analyst`.\n",
    "3. If all analyses are complete, you must choose `end_investigation`.\n",
    "\n",
    "Here is the current state:\n",
    "Intel available: {intel_available}\n",
    "Log Summary available: {log_summary_available}\n",
    "Trace: {investigation_trace}\n",
    "\n",
    "What is the next step?\"\"\"\n",
    ")\n",
    "\n",
    "# --- 3. Create the Supervisor Chain ---\n",
    "supervisor_chain = supervisor_prompt | llm.with_structured_output(Route)\n",
    "\n",
    "def run_supervisor(state: GraphState) -> GraphState:\n",
    "    \"\"\"Runs the supervisor to decide the next step.\"\"\"\n",
    "    print(\"---SUPERVISOR---\")\n",
    "    response = supervisor_chain.invoke({\n",
    "        \"intel_available\": 'Yes' if state.get('intel') else 'No',\n",
    "        \"log_summary_available\": 'Yes' if state.get('log_summary') else 'No',\n",
    "        \"investigation_trace\": \"\\n\".join(state.get('investigation_trace', [])),\n",
    "        \"alert\": state.get('alert'),\n",
    "        \"indicator\": state.get('indicator')\n",
    "    })\n",
    "    state['next_node'] = response.next\n",
    "    return state"
   ]
  },
  {
   "cell_type": "code",
   "execution_count": 11,
   "id": "95224e68",
   "metadata": {},
   "outputs": [
    {
     "name": "stdout",
     "output_type": "stream",
     "text": [
      "---SUPERVISOR---\n"
     ]
    }
   ],
   "source": [
    "initial_state = {\n",
    "    \"alert\": {\"source\": \"auth_log\", \"details\": \"Multiple failed logins from a new IP\"},\n",
    "    \"indicator\": \"198.51.100.10\", # A suspicious IP\n",
    "    \"logs\": \"[2023-10-27 10:00:04] CMD: User 'admin' executed 'cat /etc/passwd' from IP 198.51.100.10.\",\n",
    "    \n",
    "    # These fields are empty at the start\n",
    "    \"intel\": None,\n",
    "    \"investigation_trace\": [],\n",
    "    \"next_node\": \"\",\n",
    "    \"log_summary\": None\n",
    "}\n",
    "\n",
    "updated_state = run_supervisor(initial_state)"
   ]
  },
  {
   "cell_type": "code",
   "execution_count": 12,
   "id": "fcd07105",
   "metadata": {},
   "outputs": [
    {
     "data": {
      "text/plain": [
       "{'alert': {'source': 'auth_log',\n",
       "  'details': 'Multiple failed logins from a new IP'},\n",
       " 'indicator': '198.51.100.10',\n",
       " 'logs': \"[2023-10-27 10:00:04] CMD: User 'admin' executed 'cat /etc/passwd' from IP 198.51.100.10.\",\n",
       " 'intel': None,\n",
       " 'investigation_trace': [],\n",
       " 'next_node': 'Threat_Analyst',\n",
       " 'log_summary': None}"
      ]
     },
     "execution_count": 12,
     "metadata": {},
     "output_type": "execute_result"
    }
   ],
   "source": [
    "updated_state"
   ]
  },
  {
   "cell_type": "code",
   "execution_count": 13,
   "id": "f4bb0365",
   "metadata": {},
   "outputs": [],
   "source": [
    "from langchain_groq import ChatGroq\n",
    "from langchain_core.prompts import ChatPromptTemplate\n",
    "from pydantic import BaseModel, Field\n",
    "from langchain.agents import AgentExecutor, create_tool_calling_agent\n",
    "\n",
    "from dotenv import load_dotenv\n",
    "load_dotenv()\n",
    "\n",
    "from app.tools import virustotal_ip_lookup\n",
    "from app.state import GraphState\n",
    "import json\n",
    "\n",
    "# --- 1. Define the LLM and the Output Structure ---\n",
    "llm = ChatGroq(model=\"llama-3.3-70b-versatile\", temperature=0)\n",
    "\n",
    "class ThreatIntel(BaseModel):\n",
    "    \"\"\"Structured output for the Threat Intelligence Analyst agent.\"\"\"\n",
    "    summary: str = Field(description=\"A concise summary of the threat intelligence findings, including reputation and analysis stats.\")\n",
    "    is_malicious: bool = Field(description=\"The final verdict on whether the indicator is malicious, based on the analysis.\")\n",
    "\n",
    "# --- 2. Create the \"Tool User\" Agent ---\n",
    "# This agent's only job is to call the VirusTotal tool.\n",
    "tool_user_prompt = ChatPromptTemplate.from_messages(\n",
    "    [\n",
    "        (\"system\", \"You are an assistant that uses tools to gather information. You must use the virustotal_ip_lookup tool for the given IP address.\"),\n",
    "        (\"human\", \"{input}\"),\n",
    "        (\"placeholder\", \"{agent_scratchpad}\"),\n",
    "    ]\n",
    ")\n",
    "tool_user_agent = create_tool_calling_agent(llm, [virustotal_ip_lookup], tool_user_prompt)\n",
    "tool_user_executor = AgentExecutor(agent=tool_user_agent, tools=[virustotal_ip_lookup], verbose=True)\n",
    "\n",
    "\n",
    "# --- 3. Create the \"Formatter\" Chain ---\n",
    "# This chain's only job is to format the raw tool output into our desired structure.\n",
    "formatter_prompt = ChatPromptTemplate.from_messages(\n",
    "    [\n",
    "        (\"system\", \n",
    "         \"\"\"You are a senior cybersecurity analyst. Your task is to interpret raw tool output and provide a structured analysis.\n",
    "          Based on the provided data, determine if the indicator is malicious and provide a concise summary.\n",
    "          You must respond in the format of the `ThreatIntel` tool.\"\"\"),\n",
    "        (\"human\", \"Here is the raw data from the threat intelligence tool:\\n\\n{raw_data}\")\n",
    "    ]\n",
    ")\n",
    "# We cleanly apply structured output here, with no tools to cause conflicts.\n",
    "formatter_chain = formatter_prompt | llm.with_structured_output(ThreatIntel)\n",
    "\n",
    "\n",
    "# --- 4. Define the Node that Orchestrates the Two Steps ---\n",
    "def run_threat_analyst(state: GraphState) -> GraphState: # <-- Returns the whole state\n",
    "    \"\"\"Executes the threat intelligence analysis.\"\"\"\n",
    "    print(\"---RUNNING THREAT ANALYST---\")\n",
    "    indicator = state[\"indicator\"]\n",
    "    \n",
    "    tool_response = tool_user_executor.invoke({\"input\": indicator})\n",
    "    raw_data_str = tool_response[\"output\"]\n",
    "    structured_output = formatter_chain.invoke({\"raw_data\": raw_data_str})\n",
    "    \n",
    "    # Explicitly update the state\n",
    "    state[\"intel\"] = structured_output\n",
    "    trace_message = f\"Threat Analyst conclusion: The indicator '{indicator}' is {'malicious' if structured_output.is_malicious else 'benign'}.\"\n",
    "    state[\"investigation_trace\"].append(trace_message)\n",
    "    \n",
    "    return state"
   ]
  },
  {
   "cell_type": "code",
   "execution_count": 15,
   "id": "785dacdc",
   "metadata": {},
   "outputs": [
    {
     "name": "stdout",
     "output_type": "stream",
     "text": [
      "---RUNNING THREAT ANALYST---\n",
      "\n",
      "\n",
      "\u001b[1m> Entering new AgentExecutor chain...\u001b[0m\n",
      "\u001b[32;1m\u001b[1;3m\n",
      "Invoking: `virustotal_ip_lookup` with `{'ip_address': '198.51.100.10'}`\n",
      "\n",
      "\n",
      "\u001b[0m\u001b[36;1m\u001b[1;3m{\"ip_address\": \"198.51.100.10\", \"reputation\": 0, \"analysis_stats\": {\"harmless\": 61, \"malicious\": 0, \"suspicious\": 0, \"undetected\": 34}, \"is_malicious\": false}\u001b[0m\u001b[32;1m\u001b[1;3mThe IP address 198.51.100.10 has a reputation score of 0, indicating that it is not considered malicious. The analysis stats show that 61 out of 95 scanners detected it as harmless, while 0 scanners detected it as malicious, 0 as suspicious, and 34 as undetected.\u001b[0m\n",
      "\n",
      "\u001b[1m> Finished chain.\u001b[0m\n"
     ]
    },
    {
     "data": {
      "text/plain": [
       "{'alert': {'source': 'auth_log',\n",
       "  'details': 'Multiple failed logins from a new IP'},\n",
       " 'indicator': '198.51.100.10',\n",
       " 'logs': \"[2023-10-27 10:00:04] CMD: User 'admin' executed 'cat /etc/passwd' from IP 198.51.100.10.\",\n",
       " 'intel': ThreatIntel(summary='The IP address 198.51.100.10 has a reputation score of 0, with 61 out of 95 scanners detecting it as harmless and 0 as malicious.', is_malicious=False),\n",
       " 'investigation_trace': [\"Threat Analyst conclusion: The indicator '198.51.100.10' is benign.\"],\n",
       " 'next_node': 'Threat_Analyst',\n",
       " 'log_summary': None}"
      ]
     },
     "execution_count": 15,
     "metadata": {},
     "output_type": "execute_result"
    }
   ],
   "source": [
    "updated_state = run_threat_analyst(updated_state)\n",
    "updated_state"
   ]
  },
  {
   "cell_type": "code",
   "execution_count": 16,
   "id": "d8b247f9",
   "metadata": {},
   "outputs": [
    {
     "name": "stdout",
     "output_type": "stream",
     "text": [
      "---SUPERVISOR---\n"
     ]
    },
    {
     "data": {
      "text/plain": [
       "{'alert': {'source': 'auth_log',\n",
       "  'details': 'Multiple failed logins from a new IP'},\n",
       " 'indicator': '198.51.100.10',\n",
       " 'logs': \"[2023-10-27 10:00:04] CMD: User 'admin' executed 'cat /etc/passwd' from IP 198.51.100.10.\",\n",
       " 'intel': ThreatIntel(summary='The IP address 198.51.100.10 has a reputation score of 0, with 61 out of 95 scanners detecting it as harmless and 0 as malicious.', is_malicious=False),\n",
       " 'investigation_trace': [\"Threat Analyst conclusion: The indicator '198.51.100.10' is benign.\"],\n",
       " 'next_node': 'Log_Analyst',\n",
       " 'log_summary': None}"
      ]
     },
     "execution_count": 16,
     "metadata": {},
     "output_type": "execute_result"
    }
   ],
   "source": [
    "updated_state = run_supervisor(updated_state)\n",
    "updated_state"
   ]
  },
  {
   "cell_type": "code",
   "execution_count": 17,
   "id": "2cf4cb58",
   "metadata": {},
   "outputs": [],
   "source": [
    "from langchain_groq import ChatGroq\n",
    "from langchain_core.prompts import ChatPromptTemplate\n",
    "from pydantic import BaseModel, Field\n",
    "\n",
    "from dotenv import load_dotenv\n",
    "load_dotenv()\n",
    "\n",
    "from app.state import GraphState\n",
    "\n",
    "llm = ChatGroq(model=\"llama-3.3-70b-versatile\", temperature=0)\n",
    "\n",
    "class LogAnalysis(BaseModel):\n",
    "    \"\"\"Structured Output for the Log Analysis agent.\"\"\"\n",
    "    summary: str = Field(description=\"A summary of the key events found in the logs and an analysis of their significance\")\n",
    "    contains_anomaly: bool = Field(description=\"The final verdict on whether the logs contain any anomalous or suspicious activity.\")\n",
    "\n",
    "log_analyst_prompt = ChatPromptTemplate.from_messages([\n",
    "    ('system', \n",
    "    \"\"\"You are a senior cybersecurity analyst specializing in log analysis. Your task is to meticulously review the provided logs and identify any suspicious or anomalous activity.\n",
    "\n",
    "        Look for patterns such as:\n",
    "        - Multiple failed login attempts followed by a success.\n",
    "        - Access to sensitive files or directories.\n",
    "        - Unusual commands being executed.\n",
    "        - Connections from unexpected IP addresses or ports.\n",
    "\n",
    "        Summarize the key events and provide a final verdict on whether an anomaly is present.\n",
    "        You must respond in the format of the `LogAnalysis` tool.\"\"\"),\n",
    "\n",
    "        ('human', \"Please analyze the following logs related to the alert:\\n\\n{logs}\")\n",
    "])\n",
    "\n",
    "log_analyst_chain = log_analyst_prompt | llm.with_structured_output(LogAnalysis)\n",
    "\n",
    "def run_log_analyst(state: GraphState) -> GraphState: # <-- Returns the whole state\n",
    "    \"\"\"Executes the log analysis agent.\"\"\"\n",
    "    print(\"---RUNNING LOG ANALYST---\")\n",
    "    logs = state.get(\"logs\", \"\")\n",
    "    if not logs:\n",
    "        return state # Do nothing if there are no logs\n",
    "        \n",
    "    response = log_analyst_chain.invoke({\"logs\": logs})\n",
    "\n",
    "    # Explicitly update the state\n",
    "    state[\"log_summary\"] = response\n",
    "    trace_message = f\"Log Analyst conclusion: Anomaly detected: {response.contains_anomaly}.\"\n",
    "    state[\"investigation_trace\"].append(trace_message)\n",
    "\n",
    "    return state"
   ]
  },
  {
   "cell_type": "code",
   "execution_count": 18,
   "id": "93182236",
   "metadata": {},
   "outputs": [
    {
     "name": "stdout",
     "output_type": "stream",
     "text": [
      "---RUNNING LOG ANALYST---\n"
     ]
    },
    {
     "data": {
      "text/plain": [
       "{'alert': {'source': 'auth_log',\n",
       "  'details': 'Multiple failed logins from a new IP'},\n",
       " 'indicator': '198.51.100.10',\n",
       " 'logs': \"[2023-10-27 10:00:04] CMD: User 'admin' executed 'cat /etc/passwd' from IP 198.51.100.10.\",\n",
       " 'intel': ThreatIntel(summary='The IP address 198.51.100.10 has a reputation score of 0, with 61 out of 95 scanners detecting it as harmless and 0 as malicious.', is_malicious=False),\n",
       " 'investigation_trace': [\"Threat Analyst conclusion: The indicator '198.51.100.10' is benign.\",\n",
       "  'Log Analyst conclusion: Anomaly detected: False.'],\n",
       " 'next_node': 'Log_Analyst',\n",
       " 'log_summary': LogAnalysis(summary=\"The logs show a user 'admin' executing the command 'cat /etc/passwd' from IP 198.51.100.10, which could indicate an attempt to access sensitive information. However, this command is not typically malicious by itself and 'cat /etc/passwd' is a common command for viewing user information. The IP address appears to be a valid IP address, but without more context, it's difficult to determine if this is an anomaly. Given the information provided, there is no clear indication of a significant anomaly, but the access to the passwd file could be considered suspicious depending on the context and security policies of the system.\", contains_anomaly=False)}"
      ]
     },
     "execution_count": 18,
     "metadata": {},
     "output_type": "execute_result"
    }
   ],
   "source": [
    "updated_state = run_log_analyst(updated_state)\n",
    "updated_state"
   ]
  },
  {
   "cell_type": "code",
   "execution_count": 19,
   "id": "ad927539",
   "metadata": {},
   "outputs": [
    {
     "name": "stdout",
     "output_type": "stream",
     "text": [
      "---SUPERVISOR---\n"
     ]
    },
    {
     "data": {
      "text/plain": [
       "{'alert': {'source': 'auth_log',\n",
       "  'details': 'Multiple failed logins from a new IP'},\n",
       " 'indicator': '198.51.100.10',\n",
       " 'logs': \"[2023-10-27 10:00:04] CMD: User 'admin' executed 'cat /etc/passwd' from IP 198.51.100.10.\",\n",
       " 'intel': ThreatIntel(summary='The IP address 198.51.100.10 has a reputation score of 0, with 61 out of 95 scanners detecting it as harmless and 0 as malicious.', is_malicious=False),\n",
       " 'investigation_trace': [\"Threat Analyst conclusion: The indicator '198.51.100.10' is benign.\",\n",
       "  'Log Analyst conclusion: Anomaly detected: False.'],\n",
       " 'next_node': 'end_investigation',\n",
       " 'log_summary': LogAnalysis(summary=\"The logs show a user 'admin' executing the command 'cat /etc/passwd' from IP 198.51.100.10, which could indicate an attempt to access sensitive information. However, this command is not typically malicious by itself and 'cat /etc/passwd' is a common command for viewing user information. The IP address appears to be a valid IP address, but without more context, it's difficult to determine if this is an anomaly. Given the information provided, there is no clear indication of a significant anomaly, but the access to the passwd file could be considered suspicious depending on the context and security policies of the system.\", contains_anomaly=False)}"
      ]
     },
     "execution_count": 19,
     "metadata": {},
     "output_type": "execute_result"
    }
   ],
   "source": [
    "updated_state = run_supervisor(updated_state)\n",
    "updated_state"
   ]
  },
  {
   "cell_type": "code",
   "execution_count": null,
   "id": "6b4873f9",
   "metadata": {},
   "outputs": [],
   "source": []
  }
 ],
 "metadata": {
  "kernelspec": {
   "display_name": "venv",
   "language": "python",
   "name": "python3"
  },
  "language_info": {
   "codemirror_mode": {
    "name": "ipython",
    "version": 3
   },
   "file_extension": ".py",
   "mimetype": "text/x-python",
   "name": "python",
   "nbconvert_exporter": "python",
   "pygments_lexer": "ipython3",
   "version": "3.12.3"
  }
 },
 "nbformat": 4,
 "nbformat_minor": 5
}
